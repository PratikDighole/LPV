{
  "nbformat": 4,
  "nbformat_minor": 0,
  "metadata": {
    "colab": {
      "provenance": []
    },
    "kernelspec": {
      "name": "python3",
      "display_name": "Python 3"
    },
    "language_info": {
      "name": "python"
    }
  },
  "cells": [
    {
      "cell_type": "code",
      "execution_count": null,
      "metadata": {
        "colab": {
          "base_uri": "https://localhost:8080/"
        },
        "id": "iT7y1Y2xY5IL",
        "outputId": "f03072d7-9ba0-4af1-a2e4-613f8f83e900"
      },
      "outputs": [
        {
          "output_type": "stream",
          "name": "stderr",
          "text": [
            "[nltk_data] Downloading package punkt to /root/nltk_data...\n",
            "[nltk_data]   Unzipping tokenizers/punkt.zip.\n",
            "[nltk_data] Downloading package indian to /root/nltk_data...\n",
            "[nltk_data]   Unzipping corpora/indian.zip.\n"
          ]
        },
        {
          "output_type": "execute_result",
          "data": {
            "text/plain": [
              "True"
            ]
          },
          "metadata": {},
          "execution_count": 1
        }
      ],
      "source": [
        "import nltk\n",
        "\n",
        "from nltk.corpus import indian\n",
        "\n",
        "from nltk.tag import tnt\n",
        "\n",
        "import string\n",
        "\n",
        "nltk.download(\"punkt\")\n",
        "nltk.download(\"indian\")"
      ]
    },
    {
      "cell_type": "code",
      "source": [
        "def train():\n",
        "  taggedSet=\"hindi.pos\"\n",
        "  wordSet=indian.sents(taggedSet)\n",
        "  count=0\n",
        "  for sen in wordSet:\n",
        "    count=count+1\n",
        "    sen=\"\".join(\n",
        "        [\n",
        "            \" \"+i if not i.startswith(\"'\") and i not in string.punctuation else i\n",
        "            for i in sen\n",
        "        ]\n",
        "    ).strip()\n",
        "\n",
        "  trainPerc=0.9\n",
        "\n",
        "  trainRows=int(trainPerc*count)\n",
        "  testRows=trainRows+1\n",
        "\n",
        "  data=indian.tagged_sents(taggedSet)\n",
        "  train_data=data[:trainRows]\n",
        "  test_data=data[testRows:]\n",
        "\n",
        "  print(\"Training dataset length: \",len(train_data))\n",
        "  print(\"Testing dataset length: \",len(test_data))\n",
        "\n",
        "  pos_tagger=tnt.TnT()\n",
        "  pos_tagger.train(train_data)\n",
        "\n",
        "  print(\"Accuracy: \",pos_tagger.evaluate(test_data))\n",
        "  return pos_tagger\n"
      ],
      "metadata": {
        "id": "avzSChpQaOji"
      },
      "execution_count": null,
      "outputs": []
    },
    {
      "cell_type": "code",
      "source": [
        "def tagger(pos_tagger, sentenceToBeTagged):\n",
        "  tokenized=nltk.word_tokenize(sentenceToBeTagged)\n",
        "\n",
        "  return pos_tagger.tag(tokenized)"
      ],
      "metadata": {
        "id": "Qwpw2qtnbmBW"
      },
      "execution_count": null,
      "outputs": []
    },
    {
      "cell_type": "code",
      "source": [
        "if __name__==\"__main__\":\n",
        "  pos_tagger=train()\n",
        "  sentence_to_be_tagged=\"३९ गेंदों में दो चौकों और एक छक्के की मदद से ३४ रन बनाने वाले परोरे अंत तक आउट नहीं हुए |\"\n",
        "  print(tagger(pos_tagger,sentence_to_be_tagged))"
      ],
      "metadata": {
        "colab": {
          "base_uri": "https://localhost:8080/"
        },
        "id": "rKOvYklJb2EM",
        "outputId": "f34ed815-c57e-4663-b899-19cd9579b924"
      },
      "execution_count": null,
      "outputs": [
        {
          "output_type": "stream",
          "name": "stdout",
          "text": [
            "Training dataset length:  486\n",
            "Testing dataset length:  53\n"
          ]
        },
        {
          "output_type": "stream",
          "name": "stderr",
          "text": [
            "<ipython-input-2-fcbc53f530e8>:29: DeprecationWarning: \n",
            "  Function evaluate() has been deprecated.  Use accuracy(gold)\n",
            "  instead.\n",
            "  print(\"Accuracy: \",pos_tagger.evaluate(test_data))\n"
          ]
        },
        {
          "output_type": "stream",
          "name": "stdout",
          "text": [
            "Accuracy:  0.8111964873765093\n",
            "[('३९', 'QFNUM'), ('गेंदों', 'NN'), ('में', 'PREP'), ('दो', 'QFNUM'), ('चौकों', 'QFNUM'), ('और', 'CC'), ('एक', 'QFNUM'), ('छक्के', 'QFNUM'), ('की', 'PREP'), ('मदद', 'NN'), ('से', 'PREP'), ('३४', 'QFNUM'), ('रन', 'NN'), ('बनाने', 'VNN'), ('वाले', 'PREP'), ('परोरे', 'NNP'), ('अंत', 'Unk'), ('तक', 'PREP'), ('आउट', 'JVB'), ('नहीं', 'NEG'), ('हुए', 'VAUX'), ('|', 'Unk')]\n"
          ]
        }
      ]
    },
    {
      "cell_type": "code",
      "source": [
        "sentence_to_be_tagged=\"बिहार विधानसभा का बजट सत्र शुक्रवार से शुरू हो रहा है।\"\n",
        "print(tagger(pos_tagger,sentence_to_be_tagged))"
      ],
      "metadata": {
        "colab": {
          "base_uri": "https://localhost:8080/"
        },
        "id": "ix1kEyb-cxsJ",
        "outputId": "943c036c-7f79-4b48-d3bb-c49d0c90c40f"
      },
      "execution_count": null,
      "outputs": [
        {
          "output_type": "stream",
          "name": "stdout",
          "text": [
            "[('बिहार', 'NNC'), ('विधानसभा', 'NN'), ('का', 'PREP'), ('बजट', 'NNC'), ('सत्र', 'NN'), ('शुक्रवार', 'NNP'), ('से', 'PREP'), ('शुरू', 'NVB'), ('हो', 'VFM'), ('रहा', 'VAUX'), ('है।', 'Unk')]\n"
          ]
        }
      ]
    },
    {
      "cell_type": "code",
      "source": [
        "sentence_to_be_tagged=\"लेकिन उसने ऐसा नहीं किया।\"\n",
        "print(tagger(pos_tagger,sentence_to_be_tagged))"
      ],
      "metadata": {
        "colab": {
          "base_uri": "https://localhost:8080/"
        },
        "id": "ro3rnsQLd5rc",
        "outputId": "029bb84a-b4aa-401c-82c5-b676fc710d5c"
      },
      "execution_count": null,
      "outputs": [
        {
          "output_type": "stream",
          "name": "stdout",
          "text": [
            "[('लेकिन', 'CC'), ('उसने', 'PRP'), ('ऐसा', 'PRP'), ('नहीं', 'NEG'), ('किया।', 'Unk')]\n"
          ]
        }
      ]
    }
  ]
}